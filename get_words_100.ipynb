{
 "cells": [
  {
   "cell_type": "code",
   "execution_count": 1,
   "metadata": {},
   "outputs": [],
   "source": [
    "import pandas as pd\n",
    "import nltk"
   ]
  },
  {
   "cell_type": "markdown",
   "metadata": {},
   "source": [
    "# Setup Data Structures\n",
    "Take English letters and convert them to an individual set of characters indexed by their position.  In the current encoding 'a' = 1, 'b' = 2, and so forth."
   ]
  },
  {
   "cell_type": "code",
   "execution_count": 3,
   "metadata": {},
   "outputs": [
    {
     "data": {
      "text/html": [
       "<div>\n",
       "<style scoped>\n",
       "    .dataframe tbody tr th:only-of-type {\n",
       "        vertical-align: middle;\n",
       "    }\n",
       "\n",
       "    .dataframe tbody tr th {\n",
       "        vertical-align: top;\n",
       "    }\n",
       "\n",
       "    .dataframe thead th {\n",
       "        text-align: right;\n",
       "    }\n",
       "</style>\n",
       "<table border=\"1\" class=\"dataframe\">\n",
       "  <thead>\n",
       "    <tr style=\"text-align: right;\">\n",
       "      <th></th>\n",
       "      <th>Letters</th>\n",
       "      <th>Index</th>\n",
       "    </tr>\n",
       "  </thead>\n",
       "  <tbody>\n",
       "    <tr>\n",
       "      <th>0</th>\n",
       "      <td>a</td>\n",
       "      <td>1</td>\n",
       "    </tr>\n",
       "    <tr>\n",
       "      <th>1</th>\n",
       "      <td>b</td>\n",
       "      <td>2</td>\n",
       "    </tr>\n",
       "    <tr>\n",
       "      <th>2</th>\n",
       "      <td>c</td>\n",
       "      <td>3</td>\n",
       "    </tr>\n",
       "    <tr>\n",
       "      <th>3</th>\n",
       "      <td>d</td>\n",
       "      <td>4</td>\n",
       "    </tr>\n",
       "    <tr>\n",
       "      <th>4</th>\n",
       "      <td>e</td>\n",
       "      <td>5</td>\n",
       "    </tr>\n",
       "    <tr>\n",
       "      <th>5</th>\n",
       "      <td>f</td>\n",
       "      <td>6</td>\n",
       "    </tr>\n",
       "    <tr>\n",
       "      <th>6</th>\n",
       "      <td>g</td>\n",
       "      <td>7</td>\n",
       "    </tr>\n",
       "    <tr>\n",
       "      <th>7</th>\n",
       "      <td>h</td>\n",
       "      <td>8</td>\n",
       "    </tr>\n",
       "    <tr>\n",
       "      <th>8</th>\n",
       "      <td>i</td>\n",
       "      <td>9</td>\n",
       "    </tr>\n",
       "    <tr>\n",
       "      <th>9</th>\n",
       "      <td>j</td>\n",
       "      <td>10</td>\n",
       "    </tr>\n",
       "    <tr>\n",
       "      <th>10</th>\n",
       "      <td>k</td>\n",
       "      <td>11</td>\n",
       "    </tr>\n",
       "    <tr>\n",
       "      <th>11</th>\n",
       "      <td>l</td>\n",
       "      <td>12</td>\n",
       "    </tr>\n",
       "    <tr>\n",
       "      <th>12</th>\n",
       "      <td>m</td>\n",
       "      <td>13</td>\n",
       "    </tr>\n",
       "    <tr>\n",
       "      <th>13</th>\n",
       "      <td>n</td>\n",
       "      <td>14</td>\n",
       "    </tr>\n",
       "    <tr>\n",
       "      <th>14</th>\n",
       "      <td>o</td>\n",
       "      <td>15</td>\n",
       "    </tr>\n",
       "    <tr>\n",
       "      <th>15</th>\n",
       "      <td>p</td>\n",
       "      <td>16</td>\n",
       "    </tr>\n",
       "    <tr>\n",
       "      <th>16</th>\n",
       "      <td>q</td>\n",
       "      <td>17</td>\n",
       "    </tr>\n",
       "    <tr>\n",
       "      <th>17</th>\n",
       "      <td>r</td>\n",
       "      <td>18</td>\n",
       "    </tr>\n",
       "    <tr>\n",
       "      <th>18</th>\n",
       "      <td>s</td>\n",
       "      <td>19</td>\n",
       "    </tr>\n",
       "    <tr>\n",
       "      <th>19</th>\n",
       "      <td>t</td>\n",
       "      <td>20</td>\n",
       "    </tr>\n",
       "    <tr>\n",
       "      <th>20</th>\n",
       "      <td>u</td>\n",
       "      <td>21</td>\n",
       "    </tr>\n",
       "    <tr>\n",
       "      <th>21</th>\n",
       "      <td>v</td>\n",
       "      <td>22</td>\n",
       "    </tr>\n",
       "    <tr>\n",
       "      <th>22</th>\n",
       "      <td>w</td>\n",
       "      <td>23</td>\n",
       "    </tr>\n",
       "    <tr>\n",
       "      <th>23</th>\n",
       "      <td>x</td>\n",
       "      <td>24</td>\n",
       "    </tr>\n",
       "    <tr>\n",
       "      <th>24</th>\n",
       "      <td>y</td>\n",
       "      <td>25</td>\n",
       "    </tr>\n",
       "    <tr>\n",
       "      <th>25</th>\n",
       "      <td>z</td>\n",
       "      <td>26</td>\n",
       "    </tr>\n",
       "  </tbody>\n",
       "</table>\n",
       "</div>"
      ],
      "text/plain": [
       "   Letters  Index\n",
       "0        a      1\n",
       "1        b      2\n",
       "2        c      3\n",
       "3        d      4\n",
       "4        e      5\n",
       "5        f      6\n",
       "6        g      7\n",
       "7        h      8\n",
       "8        i      9\n",
       "9        j     10\n",
       "10       k     11\n",
       "11       l     12\n",
       "12       m     13\n",
       "13       n     14\n",
       "14       o     15\n",
       "15       p     16\n",
       "16       q     17\n",
       "17       r     18\n",
       "18       s     19\n",
       "19       t     20\n",
       "20       u     21\n",
       "21       v     22\n",
       "22       w     23\n",
       "23       x     24\n",
       "24       y     25\n",
       "25       z     26"
      ]
     },
     "execution_count": 3,
     "metadata": {},
     "output_type": "execute_result"
    }
   ],
   "source": [
    "str_letters = 'abcdefghijklmnopqrstuvwxyz'\n",
    "vec_letters = list(str_letters)\n",
    "df_letters = pd.DataFrame({'Letters':vec_letters})\n",
    "df_letters['Index'] = df_letters.index+1\n",
    "df_letters"
   ]
  },
  {
   "cell_type": "markdown",
   "metadata": {},
   "source": [
    "This function takes a word as input, creates a temporary sum value set to 0, then iterates through each letter of the word to find its index value.  Since vectors are zero indexed in Python (i.e., they start at 0), a 1 is added to the value of the index value.  The assumption for this function is the letters were in the _vec_leters_ variable in the desired order.  If the current letter is not found in the vector/variable, then an error will be generated.  This error is caught by the _try_ and _except_ blocks, respectively.  At the end of the function, the temporary sum of letters by value is returned to the calling line."
   ]
  },
  {
   "cell_type": "code",
   "execution_count": 4,
   "metadata": {},
   "outputs": [],
   "source": [
    "def sum_word(str_word):\n",
    "    tmp_sum = 0\n",
    "    for i in str_word:\n",
    "        try:\n",
    "            tmp_sum = tmp_sum+vec_letters.index(i)+1\n",
    "        except:\n",
    "            pass\n",
    "    return(tmp_sum)"
   ]
  },
  {
   "cell_type": "code",
   "execution_count": 5,
   "metadata": {},
   "outputs": [
    {
     "data": {
      "text/plain": [
       "74"
      ]
     },
     "execution_count": 5,
     "metadata": {},
     "output_type": "execute_result"
    }
   ],
   "source": [
    "sum_word('madelyn')"
   ]
  },
  {
   "cell_type": "code",
   "execution_count": 8,
   "metadata": {},
   "outputs": [
    {
     "name": "stdout",
     "output_type": "stream",
     "text": [
      "CPU times: user 104 µs, sys: 1 µs, total: 105 µs\n",
      "Wall time: 108 µs\n"
     ]
    }
   ],
   "source": [
    "%%time\n",
    "vec_sample = ['carson','marci','junior','bradley','madelyn','laurence','horace','nichol','bonnie','robert',\n",
    "              'marissa','scott','kale','asher','sadie','hudson','harper','arminda','marian','alphonse','trey',\n",
    "              'linda','ralph','sam','steven','greyson','maxine','alex','seth','edmundo','ashleigh','wendie','ninfa',\n",
    "              'shona','lauralee','kalyn','louella','micheal','melonie','nancie']\n",
    "\n",
    "vec_sums = []\n",
    "for i in vec_sample:\n",
    "    tmp_val = sum_word(i)\n",
    "    vec_sums.append(tmp_val)"
   ]
  },
  {
   "cell_type": "code",
   "execution_count": 10,
   "metadata": {},
   "outputs": [
    {
     "name": "stdout",
     "output_type": "stream",
     "text": [
      "0: carson = 70\n",
      "1: marci = 44\n",
      "2: junior = 87\n",
      "3: bradley = 67\n",
      "4: madelyn = 74\n",
      "5: laurence = 79\n",
      "6: horace = 50\n",
      "7: nichol = 61\n",
      "8: bonnie = 59\n",
      "9: robert = 78\n",
      "10: marissa = 80\n",
      "11: scott = 77\n",
      "12: kale = 29\n",
      "13: asher = 51\n",
      "14: sadie = 38\n",
      "15: hudson = 81\n",
      "16: harper = 66\n",
      "17: arminda = 60\n",
      "18: marian = 56\n",
      "19: alphonse = 90\n",
      "20: trey = 68\n",
      "21: linda = 40\n",
      "22: ralph = 55\n",
      "23: sam = 33\n",
      "24: steven = 85\n",
      "25: greyson = 103\n",
      "26: maxine = 66\n",
      "27: alex = 42\n",
      "28: seth = 52\n",
      "29: edmundo = 76\n",
      "30: ashleigh = 69\n",
      "31: wendie = 60\n",
      "32: ninfa = 44\n",
      "33: shona = 57\n",
      "34: lauralee = 75\n",
      "35: kalyn = 63\n",
      "36: louella = 78\n",
      "37: micheal = 51\n",
      "38: melonie = 73\n",
      "39: nancie = 46\n"
     ]
    }
   ],
   "source": [
    "for i,item in enumerate(vec_sample):\n",
    "    print(str(i)+': '+item+' = '+str(vec_sums[i]))"
   ]
  },
  {
   "cell_type": "markdown",
   "metadata": {},
   "source": [
    "# English Words\n",
    "Using NLTK, take all of the English words and calculate their sum."
   ]
  },
  {
   "cell_type": "code",
   "execution_count": 12,
   "metadata": {},
   "outputs": [],
   "source": [
    "from nltk.corpus import words"
   ]
  },
  {
   "cell_type": "markdown",
   "metadata": {},
   "source": [
    "<br>\n",
    "Get all of the words from the NLTK resource."
   ]
  },
  {
   "cell_type": "code",
   "execution_count": 14,
   "metadata": {},
   "outputs": [],
   "source": [
    "vec_words = words.words()"
   ]
  },
  {
   "cell_type": "markdown",
   "metadata": {},
   "source": [
    "<br>\n",
    "Store all of the words in a dataframe, convert all words to lowercase, strip any whitespace, and calculate the number of letters in each word to store the length value in the dataframe."
   ]
  },
  {
   "cell_type": "code",
   "execution_count": 15,
   "metadata": {},
   "outputs": [
    {
     "name": "stdout",
     "output_type": "stream",
     "text": [
      "CPU times: user 370 ms, sys: 21.3 ms, total: 391 ms\n",
      "Wall time: 407 ms\n"
     ]
    }
   ],
   "source": [
    "%%time\n",
    "df_words = pd.DataFrame({'Word':vec_words})\n",
    "df_words['Word'] = df_words['Word'].str.lower()\n",
    "df_words['Word'] = df_words['Word'].str.strip()\n",
    "df_words['Len'] = df_words['Word'].apply(len)"
   ]
  },
  {
   "cell_type": "code",
   "execution_count": 17,
   "metadata": {},
   "outputs": [
    {
     "name": "stdout",
     "output_type": "stream",
     "text": [
      "Before Deduplication, Total Words = 236736\n",
      "After Deduplication, Total Words = 234377\n"
     ]
    }
   ],
   "source": [
    "print('Before Deduplication, Total Words = '+str(df_words.shape[0]))\n",
    "df_words.drop_duplicates(subset=['Word'],inplace=True)\n",
    "print('After Deduplication, Total Words = '+str(df_words.shape[0]))"
   ]
  },
  {
   "cell_type": "markdown",
   "metadata": {},
   "source": [
    "<br>\n",
    "Apply the _sum_word_ function to every row of the Pandas dataframe, and store the calculated value in a new column."
   ]
  },
  {
   "cell_type": "code",
   "execution_count": 18,
   "metadata": {},
   "outputs": [
    {
     "name": "stdout",
     "output_type": "stream",
     "text": [
      "CPU times: user 915 ms, sys: 7.34 ms, total: 923 ms\n",
      "Wall time: 926 ms\n"
     ]
    }
   ],
   "source": [
    "%%time\n",
    "df_words['Sum'] = df_words['Word'].apply(sum_word)"
   ]
  },
  {
   "cell_type": "code",
   "execution_count": 19,
   "metadata": {},
   "outputs": [
    {
     "data": {
      "text/html": [
       "<div>\n",
       "<style scoped>\n",
       "    .dataframe tbody tr th:only-of-type {\n",
       "        vertical-align: middle;\n",
       "    }\n",
       "\n",
       "    .dataframe tbody tr th {\n",
       "        vertical-align: top;\n",
       "    }\n",
       "\n",
       "    .dataframe thead th {\n",
       "        text-align: right;\n",
       "    }\n",
       "</style>\n",
       "<table border=\"1\" class=\"dataframe\">\n",
       "  <thead>\n",
       "    <tr style=\"text-align: right;\">\n",
       "      <th></th>\n",
       "      <th>Word</th>\n",
       "      <th>Len</th>\n",
       "      <th>Sum</th>\n",
       "    </tr>\n",
       "  </thead>\n",
       "  <tbody>\n",
       "    <tr>\n",
       "      <th>0</th>\n",
       "      <td>a</td>\n",
       "      <td>1</td>\n",
       "      <td>1</td>\n",
       "    </tr>\n",
       "    <tr>\n",
       "      <th>2</th>\n",
       "      <td>aa</td>\n",
       "      <td>2</td>\n",
       "      <td>2</td>\n",
       "    </tr>\n",
       "    <tr>\n",
       "      <th>3</th>\n",
       "      <td>aal</td>\n",
       "      <td>3</td>\n",
       "      <td>14</td>\n",
       "    </tr>\n",
       "    <tr>\n",
       "      <th>4</th>\n",
       "      <td>aalii</td>\n",
       "      <td>5</td>\n",
       "      <td>32</td>\n",
       "    </tr>\n",
       "    <tr>\n",
       "      <th>5</th>\n",
       "      <td>aam</td>\n",
       "      <td>3</td>\n",
       "      <td>15</td>\n",
       "    </tr>\n",
       "  </tbody>\n",
       "</table>\n",
       "</div>"
      ],
      "text/plain": [
       "    Word  Len  Sum\n",
       "0      a    1    1\n",
       "2     aa    2    2\n",
       "3    aal    3   14\n",
       "4  aalii    5   32\n",
       "5    aam    3   15"
      ]
     },
     "execution_count": 19,
     "metadata": {},
     "output_type": "execute_result"
    }
   ],
   "source": [
    "df_words.head()"
   ]
  },
  {
   "cell_type": "code",
   "execution_count": null,
   "metadata": {},
   "outputs": [],
   "source": []
  },
  {
   "cell_type": "markdown",
   "metadata": {},
   "source": [
    "# Questions\n",
    "## Number 1:\n",
    "How many words are there with a sum value of 100?"
   ]
  },
  {
   "cell_type": "code",
   "execution_count": 20,
   "metadata": {},
   "outputs": [
    {
     "name": "stdout",
     "output_type": "stream",
     "text": [
      "There are 2295 words with a sum value of 100.\n"
     ]
    }
   ],
   "source": [
    "df_words_100 = df_words[df_words['Sum']==100].copy()\n",
    "print('There are '+str(df_words_100.shape[0])+' words with a sum value of 100.')"
   ]
  },
  {
   "cell_type": "code",
   "execution_count": null,
   "metadata": {},
   "outputs": [],
   "source": []
  },
  {
   "cell_type": "markdown",
   "metadata": {},
   "source": [
    "## Number 2:\n",
    "What are the longest and shortest words (number of characters) with a sum value of 100?"
   ]
  },
  {
   "cell_type": "code",
   "execution_count": 33,
   "metadata": {},
   "outputs": [
    {
     "name": "stdout",
     "output_type": "stream",
     "text": [
      "The shortest words with a sum value of 100 have a length of 5, these words are: buzzy, nutty, pussy, struv, totty, tousy\n"
     ]
    }
   ],
   "source": [
    "len_100_min = df_words_100['Len'].min()\n",
    "vec_words_100_min = df_words_100[df_words_100['Len']==len_100_min]['Word'].tolist()\n",
    "print('The shortest words with a sum value of 100 have a length of '+str(len_100_min)+', these words are: '+', '.join(vec_words_100_min))"
   ]
  },
  {
   "cell_type": "code",
   "execution_count": 34,
   "metadata": {},
   "outputs": [
    {
     "name": "stdout",
     "output_type": "stream",
     "text": [
      "The shortest words with a sum value of 100 have a length of 14, these words are: batrachoididae, biddulphiaceae\n"
     ]
    }
   ],
   "source": [
    "len_100_max = df_words_100['Len'].max()\n",
    "vec_words_100_max = df_words_100[df_words_100['Len']==len_100_max]['Word'].tolist()\n",
    "print('The shortest words with a sum value of 100 have a length of '+str(len_100_max)+', these words are: '+', '.join(vec_words_100_max))"
   ]
  },
  {
   "cell_type": "code",
   "execution_count": null,
   "metadata": {},
   "outputs": [],
   "source": []
  },
  {
   "cell_type": "markdown",
   "metadata": {},
   "source": [
    "## Number 3:\n",
    "What words have the highest sum value?"
   ]
  },
  {
   "cell_type": "code",
   "execution_count": 37,
   "metadata": {},
   "outputs": [
    {
     "name": "stdout",
     "output_type": "stream",
     "text": [
      "The words with the highest sum value has a sum of 328, these words are: dacryocystosyringotomy\n"
     ]
    }
   ],
   "source": [
    "sum_all_max = df_words['Sum'].max()\n",
    "vec_words_all_max = df_words[df_words['Sum']==sum_all_max]['Word'].tolist()\n",
    "print('The words with the highest sum value has a sum of '+str(sum_all_max)+', these words are: '+', '.join(vec_words_all_max))"
   ]
  },
  {
   "cell_type": "code",
   "execution_count": null,
   "metadata": {},
   "outputs": [],
   "source": []
  },
  {
   "cell_type": "markdown",
   "metadata": {},
   "source": [
    "## Number 4:\n",
    "What is the minimum and maximum length values for the words?"
   ]
  },
  {
   "cell_type": "code",
   "execution_count": 46,
   "metadata": {},
   "outputs": [
    {
     "name": "stdout",
     "output_type": "stream",
     "text": [
      "Minimum Length = 1\n",
      "Maximum Length = 24\n"
     ]
    }
   ],
   "source": [
    "print('Minimum Length = '+str(df_words['Len'].min())+'\\nMaximum Length = '+str(df_words['Len'].max()))"
   ]
  },
  {
   "cell_type": "code",
   "execution_count": null,
   "metadata": {},
   "outputs": [],
   "source": []
  },
  {
   "cell_type": "markdown",
   "metadata": {},
   "source": [
    "## Number 5:\n",
    "What do the kernel density estimate plots look like for the length and sum values of words?"
   ]
  },
  {
   "cell_type": "code",
   "execution_count": 38,
   "metadata": {},
   "outputs": [],
   "source": [
    "%matplotlib inline"
   ]
  },
  {
   "cell_type": "code",
   "execution_count": 51,
   "metadata": {},
   "outputs": [
    {
     "data": {
      "image/png": "[encoded data removed]",
      "text/plain": [
       "<Figure size 1080x576 with 1 Axes>"
      ]
     },
     "metadata": {
      "needs_background": "light"
     },
     "output_type": "display_data"
    }
   ],
   "source": [
    "ax = df_words['Len'].plot.kde(bw_method=1,figsize=(15,8))"
   ]
  },
  {
   "cell_type": "code",
   "execution_count": 42,
   "metadata": {},
   "outputs": [
    {
     "data": {
      "image/png": "[encoded data removed]",
      "text/plain": [
       "<Figure size 1080x576 with 1 Axes>"
      ]
     },
     "metadata": {
      "needs_background": "light"
     },
     "output_type": "display_data"
    }
   ],
   "source": [
    "ax = df_words['Sum'].plot.kde(figsize=(15,8))"
   ]
  },
  {
   "cell_type": "code",
   "execution_count": null,
   "metadata": {},
   "outputs": [],
   "source": []
  },
  {
   "cell_type": "markdown",
   "metadata": {},
   "source": [
    "# Export"
   ]
  },
  {
   "cell_type": "code",
   "execution_count": 52,
   "metadata": {},
   "outputs": [],
   "source": [
    "df_words_100.to_excel('./Words_Sum_100.xlsx',index=False)"
   ]
  },
  {
   "cell_type": "code",
   "execution_count": null,
   "metadata": {},
   "outputs": [],
   "source": []
  }
 ],
 "metadata": {
  "kernelspec": {
   "display_name": "Python [conda env:Env_Anaconda]",
   "language": "python",
   "name": "conda-env-Env_Anaconda-py"
  },
  "language_info": {
   "codemirror_mode": {
    "name": "ipython",
    "version": 3
   },
   "file_extension": ".py",
   "mimetype": "text/x-python",
   "name": "python",
   "nbconvert_exporter": "python",
   "pygments_lexer": "ipython3",
   "version": "3.6.7"
  }
 },
 "nbformat": 4,
 "nbformat_minor": 2
}
